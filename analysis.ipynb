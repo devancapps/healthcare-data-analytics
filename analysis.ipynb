{
 "cells": [
  {
   "cell_type": "code",
   "execution_count": null,
   "metadata": {},
   "outputs": [],
   "source": [
    "# Cell 1 - Install and import required libraries\n",
    "%pip install folium\n",
    "\n",
    "import pandas as pd\n",
    "import numpy as np\n",
    "import matplotlib.pyplot as plt\n",
    "import seaborn as sns\n",
    "from datetime import datetime, timedelta\n",
    "import requests\n",
    "from scipy import stats\n",
    "import folium\n",
    "import warnings\n",
    "warnings.filterwarnings('ignore')\n",
    "\n",
    "# Set styling\n",
    "plt.style.use('seaborn')\n",
    "sns.set_palette(\"husl\")\n",
    "pd.set_option('display.max_columns', None)\n",
    "\n",
    " "
   ]
  },
  {
   "cell_type": "code",
   "execution_count": null,
   "metadata": {},
   "outputs": [],
   "source": [
    "# Cell 2 - Create WHO data function\n",
    "def fetch_who_data():\n",
    "    \"\"\"Fetch diabetes prevalence data from WHO API\"\"\"\n",
    "    # Note: In real implementation, use WHO's actual API endpoint\n",
    "    # This is simulated data for demonstration\n",
    "    years = range(2000, 2024)\n",
    "    countries = ['USA', 'UK', 'Canada', 'Australia', 'France', 'Germany', 'Japan']\n",
    "    \n",
    "    data = {\n",
    "        'Year': [],\n",
    "        'Country': [],\n",
    "        'Prevalence': [],\n",
    "        'Age_Standardized_Rate': []\n",
    "    }\n",
    "    \n",
    "    for year in years:\n",
    "        for country in countries:\n",
    "            base_prev = 8 + np.random.normal(0, 0.5)\n",
    "            trend = (year - 2000) * 0.15\n",
    "            prevalence = max(base_prev + trend + np.random.normal(0, 0.3), 0)\n",
    "            \n",
    "            data['Year'].append(year)\n",
    "            data['Country'].append(country)\n",
    "            data['Prevalence'].append(prevalence)\n",
    "            data['Age_Standardized_Rate'].append(prevalence * 0.9)\n",
    "    \n",
    "    return pd.DataFrame(data)"
   ]
  }
 ],
 "metadata": {
  "language_info": {
   "name": "python"
  },
  "orig_nbformat": 4
 },
 "nbformat": 4,
 "nbformat_minor": 2
}
